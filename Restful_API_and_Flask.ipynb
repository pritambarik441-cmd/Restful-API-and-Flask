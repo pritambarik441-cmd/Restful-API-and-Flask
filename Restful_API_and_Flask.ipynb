{
  "nbformat": 4,
  "nbformat_minor": 0,
  "metadata": {
    "colab": {
      "provenance": []
    },
    "kernelspec": {
      "name": "python3",
      "display_name": "Python 3"
    },
    "language_info": {
      "name": "python"
    }
  },
  "cells": [
    {
      "cell_type": "markdown",
      "source": [
        "## THeorY Questions\n",
        "\n"
      ],
      "metadata": {
        "id": "JRuassAlxkLa"
      }
    },
    {
      "cell_type": "markdown",
      "source": [
        "1. What is a RESTful API? A RESTful API\n",
        "\n",
        "Ans (Representational State Transfer) is an architectural style for designing networked applications. It's a way of structuring APIs to be stateless, client-server based, cacheable, layered, and use a uniform interface (like HTTP methods).\n",
        "\n",
        "2. Explain the concept of API specification.\n",
        "\n",
        "Ans An API specification is a detailed description of how an API works. It defines the endpoints, request and response formats, authentication methods, error handling, and other details necessary for developers to understand and interact with the API. Examples include OpenAPI (Swagger) and RAML.\n",
        "\n",
        "3. What is Flask, and why is it popular for building APIs?\n",
        "\n",
        "Ans Flask is a lightweight micro web framework for Python. It's popular for building APIs because it's simple, flexible, and doesn't impose many dependencies or structures, allowing developers to choose the tools they need.\n",
        "\n",
        "\n",
        "4. What is routing in Flask?\n",
        "\n",
        "Ans Routing in Flask is the process of mapping a URL request to a specific function in your Flask application. This is typically done using the @app.route() decorator.\n",
        "\n",
        "5. How do you create a simple Flask application?\n",
        "\n",
        "Ans We can create a simple Flask application with the following code:\n",
        "from flask import Flask\n",
        "\n",
        "app = Flask(__name__)\n",
        "\n",
        "@app.route('/')\n",
        "def hello_world():\n",
        "    return 'Hello, World!'\n",
        "\n",
        "if __name__ == '__main__':\n",
        "    app.run(debug=True)\n",
        "\n",
        "6. What are HTTP methods used in RESTful APIs?\n",
        "\n",
        "Ans Common HTTP methods used in RESTful APIs include:\n",
        "GET: Retrieves data from a resource.\n",
        "POST: Submits data to create a new resource.\n",
        "PUT: Updates an existing resource.\n",
        "DELETE: Deletes a resource.\n",
        "PATCH: Partially updates an existing resource.\n",
        "HEAD: Retrieves headers for a resource.\n",
        "OPTIONS: Describes the communication options for a resource.\n",
        "\n",
        "7. What is the purpose of @app.route() decorator in Flask?\n",
        "\n",
        "Ans  The @app.route() decorator in Flask is used to associate a URL path with a Python function. When a request comes in for that URL, the decorated function is executed.\n",
        "\n",
        "8. What is the difference between GET and POST HTTP methods?\n",
        "\n",
        "Ans GET is used to request data from a specified resource. Data is sent in the URL query string and is visible. It's idempotent and safe (doesn't change the server state).\n",
        "\n",
        "9. POST is used to send data to a server to create/update a resource.\n",
        "\n",
        "Ans Data is sent in the request body and is not visible in the URL. It is neither idempotent nor safe (can change the server state).\n",
        "\n",
        "10. How do you handle errors in Flask API?\n",
        "\n",
        "Ans You can handle errors in Flask using error handlers with the @app.errorhandler() decorator. You can define custom error pages or JSON responses for specific HTTP status codes or exception types.\n",
        "\n",
        "11. How do you connect Flask to a SQL database?\n",
        "\n",
        "Ans You can connect Flask to a SQL database using libraries like SQLAlchemy, which provides an Object-Relational Mapper (ORM) to interact with databases using Python objects instead of raw SQL queries. Flask-SQLAlchemy is a Flask extension that integrates SQLAlchemy with Flask.\n",
        "\n",
        "12. What is the role of Flask-SQLAlchemy?\n",
        "\n",
        "Ans Flask-SQLAlchemy is a Flask extension that simplifies the use of SQLAlchemy within Flask applications. It provides helper classes and configurations to easily set up the database connection, define models, and perform database operations.\n",
        "\n",
        "13. What are Flask Blueprints and how are they useful?\n",
        "\n",
        "Ans Flask Blueprints are a way to organize related routes and functionality into modular components. They are useful for structuring larger applications, making them more manageable, reusable, and allowing for better separation of concerns.\n",
        "\n",
        "14. What is the purpose of the Flask request object?\n",
        "\n",
        "Ans  The Flask request object is a global object that contains all the information about the incoming HTTP request, such as the request method, URL, headers, form data, JSON data, and query parameters. It allows you to access and process the data sent by the client.\n",
        "\n",
        "15. How do you create a RESTful API endpoint using Flask?\n",
        "\n",
        "Ans You create a RESTful API endpoint in Flask by defining a route using @app.route() for a specific URL path and HTTP method, and then writing a function that handles the request and returns a response, often in JSON format.\n",
        "\n",
        "\n",
        "16. What is the purpose of Flask jsonify() function?\n",
        "\n",
        "Ans The Flask jsonify() function is a helper function that serializes Python dictionaries or lists into JSON format and returns a Flask Response object with the Content-Type header set to application/json. It's commonly used to return JSON responses from API endpoints.\n",
        "\n",
        "17. Explain Flask url_for() function.\n",
        "\n",
        "Ans The Flask url_for() function is used to dynamically build URLs for a specific function. Instead of hardcoding URLs, you use url_for() with the name of the function, and Flask generates the correct URL. This is useful for maintaining URLs when routes change.\n",
        "\n",
        "18. How does Flask handle static files (CSS, JavaScript, etc.)?\n",
        "\n",
        "Ans Flask serves static files from a designated directory (by default, a folder named static in the same directory as your application). You can refer to these files in your templates using the url_for() function with the endpoint name 'static' and the filename.\n",
        "\n",
        "\n",
        "19. What is an API specification and how does it help in building a Flask API?\n",
        "\n",
        "Ans  repeating for clarity in this context) An API specification (like OpenAPI) describes the API's endpoints, data formats, and behavior. It helps in building a Flask API by providing a clear contract for developers to follow, facilitating documentation generation, and enabling the creation of client libraries.\n",
        "\n",
        "20. What are HTTP status codes and why are they important in a Flask API?\n",
        "\n",
        "Ans  HTTP status codes are three-digit numbers returned by the server in response to an HTTP request. They indicate the status of the request (e.g., 200 OK, 404 Not Found, 500 Internal Server Error). They are important in a Flask API to inform the client about the outcome of their request, allowing them to handle different scenarios appropriately.\n",
        "\n",
        "21. How do you handle POST requests in Flask?\n",
        "\n",
        "Ans You handle POST requests in Flask by specifying methods=['POST'] in the @app.route() decorator for a route. Inside the function, you can access the data sent in the request body using the request object, typically request.form for form data or request.json for JSON data.\n",
        "\n",
        "22. How would you secure a Flask API? Securing a Flask API involves several measures, including:\n",
        "\n",
        "Ans Using HTTPS to encrypt communication.\n",
        "Implementing authentication (e.g., token-based authentication like JWT, OAuth).\n",
        "Implementing authorization to control access to resources.\n",
        "Input validation to prevent injection attacks.\n",
        "Rate limiting to protect against denial-of-service attacks.\n",
        "Handling errors gracefully without revealing sensitive information.\n",
        "\n",
        "23. What is the significance of the Flask-RESTful extension?\n",
        "\n",
        "Ans Flask-RESTful is a Flask extension that provides tools for quickly building REST APIs. It simplifies the creation of resources and endpoints, handles request parsing, and provides features for serialization and marshalling data.\n",
        "What is the role of the Flask session object? The Flask session object is used to store information specific to a user's session across multiple requests. It's typically stored server-side but identified by a cookie in the user's browser. It's useful for maintaining user login status or storing temporary data associated with a user."
      ],
      "metadata": {
        "id": "_-qDKHbuz-Au"
      }
    },
    {
      "cell_type": "markdown",
      "source": [
        "## Practical Questions\n",
        "\n"
      ],
      "metadata": {
        "id": "TYe2F5Kv8gyd"
      }
    },
    {
      "cell_type": "markdown",
      "source": [
        "1. How do you create a basic Flask application? Import the Flask class, create an instance, define a route using @app.route(), and run the application."
      ],
      "metadata": {
        "id": "-yMnTmNI_h4v"
      }
    },
    {
      "cell_type": "code",
      "source": [
        "\"\"\"\n",
        "from flask import Flask\n",
        "\n",
        "\n",
        "app = Flask(__name__)\n",
        "\n",
        "\n",
        "@app.route('/')\n",
        "def hello_world():\n",
        "   return 'Hello, World!'\n",
        "\n",
        "\n",
        "if __name__ == '__main__':\n",
        "   app.run(debug=True)\n",
        "\n",
        "\n",
        "\"\"\"\n"
      ],
      "metadata": {
        "colab": {
          "base_uri": "https://localhost:8080/",
          "height": 35
        },
        "id": "0Zd_lI5n_kS_",
        "outputId": "edba7bd2-62d8-4dbf-d1d2-ab474acadff9"
      },
      "execution_count": 4,
      "outputs": [
        {
          "output_type": "execute_result",
          "data": {
            "text/plain": [
              "\"\\nfrom flask import Flask\\n\\n\\napp = Flask(__name__)\\n\\n\\n@app.route('/')\\ndef hello_world():\\n   return 'Hello, World!'\\n\\n\\nif __name__ == '__main__':\\n   app.run(debug=True)\\n\\n\\n\""
            ],
            "application/vnd.google.colaboratory.intrinsic+json": {
              "type": "string"
            }
          },
          "metadata": {},
          "execution_count": 4
        }
      ]
    },
    {
      "cell_type": "markdown",
      "source": [
        "2. How do you serve static files like images or CSS in Flask?\n",
        "\n",
        "\n",
        "Ans n Flask, you can serve static files like images or CSS by placing them in a folder named static within your application's directory.\n",
        "\n",
        "Then, in your HTML templates, you can refer to these files using the url_for() function with the endpoint name 'static' and the filename argument set to the path of your file within the static folder.\n",
        "\n",
        "For example, if you have a file named style.css inside your static folder, you would link to it in your HTML like this:\n",
        "<link rel=\"stylesheet\" href=\"{{ url_for('static', filename='style.css') }}\">\n",
        "And for an image named logo.png:\n",
        "<img src=\"{{ url_for('static', filename='logo.png') }}\" alt=\"Logo\">"
      ],
      "metadata": {
        "id": "gxgCZXpJAXWw"
      }
    },
    {
      "cell_type": "markdown",
      "source": [
        "3. How do you define different routes with different HTTP methods in Flask?"
      ],
      "metadata": {
        "id": "T2T1RuEbAiQ7"
      }
    },
    {
      "cell_type": "code",
      "source": [
        "\"\"\"\n",
        "from flask import Flask, request\n",
        "\n",
        "\n",
        "app = Flask(__name__)\n",
        "\n",
        "\n",
        "@app.route('/data', methods=['GET', 'POST'])\n",
        "def handle_data():\n",
        "   if request.method == 'POST':\n",
        "       return 'Handling POST request'\n",
        "   else:\n",
        "       return 'Handling GET request'\n",
        "\n",
        "\n",
        "\"\"\"\n"
      ],
      "metadata": {
        "colab": {
          "base_uri": "https://localhost:8080/",
          "height": 52
        },
        "id": "qq7ouPuqAjkJ",
        "outputId": "cc3f8270-5c14-4be2-ef51-6061228db642"
      },
      "execution_count": 6,
      "outputs": [
        {
          "output_type": "execute_result",
          "data": {
            "text/plain": [
              "\"\\nfrom flask import Flask, request\\n\\n\\napp = Flask(__name__)\\n\\n\\n@app.route('/data', methods=['GET', 'POST'])\\ndef handle_data():\\n   if request.method == 'POST':\\n       return 'Handling POST request'\\n   else:\\n       return 'Handling GET request'\\n\\n\\n\""
            ],
            "application/vnd.google.colaboratory.intrinsic+json": {
              "type": "string"
            }
          },
          "metadata": {},
          "execution_count": 6
        }
      ]
    },
    {
      "cell_type": "markdown",
      "source": [
        "4. How do you render HTML templates in Flask?"
      ],
      "metadata": {
        "id": "FfP8PBHmAp_0"
      }
    },
    {
      "cell_type": "code",
      "source": [
        "from flask import Flask, render_template\n",
        "\n",
        "\"\"\"\n",
        "\n",
        "app = Flask(__name__)\n",
        "\n",
        "\n",
        "@app.route('/')\n",
        "def index():\n",
        "   return render_template('index.html', title='Home Page')\n",
        "\n",
        "\n",
        "\"\"\"\n"
      ],
      "metadata": {
        "colab": {
          "base_uri": "https://localhost:8080/",
          "height": 35
        },
        "id": "MKtKk7k-A1Er",
        "outputId": "5629f0cb-f12e-4898-dd4a-5623517aa85e"
      },
      "execution_count": 8,
      "outputs": [
        {
          "output_type": "execute_result",
          "data": {
            "text/plain": [
              "\"\\n\\napp = Flask(__name__)\\n\\n\\n@app.route('/')\\ndef index():\\n   return render_template('index.html', title='Home Page')\\n\\n\\n\""
            ],
            "application/vnd.google.colaboratory.intrinsic+json": {
              "type": "string"
            }
          },
          "metadata": {},
          "execution_count": 8
        }
      ]
    },
    {
      "cell_type": "markdown",
      "source": [
        "5. How can you generate URLs for routes in Flask using url_for?"
      ],
      "metadata": {
        "id": "asd0LVdXA56t"
      }
    },
    {
      "cell_type": "code",
      "source": [
        "\"\"\"\n",
        "from flask import Flask, url_for, redirect\n",
        "\n",
        "\n",
        "app = Flask(__name__)\n",
        "\n",
        "\n",
        "@app.route('/')\n",
        "def index():\n",
        "   return 'Index Page'\n",
        "\n",
        "\n",
        "@app.route('/login')\n",
        "def login():\n",
        "   return 'Login Page'\n",
        "\n",
        "\n",
        "@app.route('/profile/<username>')\n",
        "def profile(username):\n",
        "   return f'Profile of {username}'\n",
        "\n",
        "\n",
        "with app.test_request_context():\n",
        "   print(url_for('index'))\n",
        "   print(url_for('login'))\n",
        "   print(url_for('login', next='/'))\n",
        "   print(url_for('profile', username='JohnDoe'))\n",
        "\n",
        "\n",
        "\"\"\"\n"
      ],
      "metadata": {
        "colab": {
          "base_uri": "https://localhost:8080/",
          "height": 52
        },
        "id": "RvDzjiekCSwh",
        "outputId": "0287e920-6bdb-4610-97ae-93aa7f1af322"
      },
      "execution_count": 9,
      "outputs": [
        {
          "output_type": "execute_result",
          "data": {
            "text/plain": [
              "\"\\nfrom flask import Flask, url_for, redirect\\n\\n\\napp = Flask(__name__)\\n\\n\\n@app.route('/')\\ndef index():\\n   return 'Index Page'\\n\\n\\n@app.route('/login')\\ndef login():\\n   return 'Login Page'\\n\\n\\n@app.route('/profile/<username>')\\ndef profile(username):\\n   return f'Profile of {username}'\\n\\n\\nwith app.test_request_context():\\n   print(url_for('index'))\\n   print(url_for('login'))\\n   print(url_for('login', next='/'))\\n   print(url_for('profile', username='JohnDoe'))\\n\\n\\n\""
            ],
            "application/vnd.google.colaboratory.intrinsic+json": {
              "type": "string"
            }
          },
          "metadata": {},
          "execution_count": 9
        }
      ]
    },
    {
      "cell_type": "code",
      "source": [
        "6. How do you handle forms in Flask?"
      ],
      "metadata": {
        "id": "IxC9D4NfCcny"
      },
      "execution_count": null,
      "outputs": []
    },
    {
      "cell_type": "code",
      "source": [
        "\"\"\"\n",
        "from flask import Flask, request, render_template\n",
        "\n",
        "\n",
        "app = Flask(__name__)\n",
        "\n",
        "\n",
        "@app.route('/login', methods=['GET', 'POST'])\n",
        "def login():\n",
        "   if request.method == 'POST':\n",
        "       username = request.form['username']\n",
        "       password = request.form['password']\n",
        "       # Process login data\n",
        "       return f'Username: {username}, Password: {password}'\n",
        "   return render_template('login.html') # Assuming you have a login.html template\n",
        "\n",
        "\n",
        "\"\"\"\n"
      ],
      "metadata": {
        "colab": {
          "base_uri": "https://localhost:8080/",
          "height": 52
        },
        "id": "yDXh7tYgCiC9",
        "outputId": "012b23ae-f364-41d1-ab44-8b799014ee13"
      },
      "execution_count": 10,
      "outputs": [
        {
          "output_type": "execute_result",
          "data": {
            "text/plain": [
              "\"\\nfrom flask import Flask, request, render_template\\n\\n\\napp = Flask(__name__)\\n\\n\\n@app.route('/login', methods=['GET', 'POST'])\\ndef login():\\n   if request.method == 'POST':\\n       username = request.form['username']\\n       password = request.form['password']\\n       # Process login data\\n       return f'Username: {username}, Password: {password}'\\n   return render_template('login.html') # Assuming you have a login.html template\\n\\n\\n\""
            ],
            "application/vnd.google.colaboratory.intrinsic+json": {
              "type": "string"
            }
          },
          "metadata": {},
          "execution_count": 10
        }
      ]
    },
    {
      "cell_type": "markdown",
      "source": [
        "7. How can you validate form data in Flask?"
      ],
      "metadata": {
        "id": "mgiUrUn0CpU5"
      }
    },
    {
      "cell_type": "code",
      "source": [
        "\"\"\"\n",
        "from flask import Flask, request, render_template\n",
        "\n",
        "\n",
        "app = Flask(__name__)\n",
        "\n",
        "\n",
        "@app.route('/submit', methods=['POST'])\n",
        "def submit():\n",
        "   if request.method == 'POST':\n",
        "       name = request.form.get('name')\n",
        "       if not name:\n",
        "           return 'Name is required!', 400\n",
        "       return f'Hello, {name}!'\n",
        "   return \"Method Not Allowed\", 405\n",
        "\n",
        "\n",
        "\"\"\"\n"
      ],
      "metadata": {
        "colab": {
          "base_uri": "https://localhost:8080/",
          "height": 52
        },
        "id": "PmzR_bzqCtu_",
        "outputId": "58e9189b-c2be-4dcb-cc15-fdf27263234c"
      },
      "execution_count": 11,
      "outputs": [
        {
          "output_type": "execute_result",
          "data": {
            "text/plain": [
              "'\\nfrom flask import Flask, request, render_template\\n\\n\\napp = Flask(__name__)\\n\\n\\n@app.route(\\'/submit\\', methods=[\\'POST\\'])\\ndef submit():\\n   if request.method == \\'POST\\':\\n       name = request.form.get(\\'name\\')\\n       if not name:\\n           return \\'Name is required!\\', 400\\n       return f\\'Hello, {name}!\\'\\n   return \"Method Not Allowed\", 405\\n\\n\\n'"
            ],
            "application/vnd.google.colaboratory.intrinsic+json": {
              "type": "string"
            }
          },
          "metadata": {},
          "execution_count": 11
        }
      ]
    },
    {
      "cell_type": "markdown",
      "source": [
        "8. How do you manage sessions in Flask?"
      ],
      "metadata": {
        "id": "SCgbzBPwCxX_"
      }
    },
    {
      "cell_type": "code",
      "source": [
        "\"\"\"\n",
        "from flask import Flask, session, redirect, url_for, request\n",
        "\n",
        "\n",
        "app = Flask(__name__)\n",
        "app.secret_key = 'your_secret_key' # Change this!\n",
        "\n",
        "\n",
        "@app.route('/login')\n",
        "def login():\n",
        "   session['username'] = 'admin'\n",
        "   return 'User logged in'\n",
        "\n",
        "\n",
        "@app.route('/logout')\n",
        "def logout():\n",
        "   session.pop('username', None)\n",
        "   return 'User logged out'\n",
        "\n",
        "\n",
        "@app.route('/get_username')\n",
        "def get_username():\n",
        "   return f'Current user: {session.get(\"username\", \"Not logged in\")}'\n",
        "\n",
        "\n",
        "\"\"\""
      ],
      "metadata": {
        "colab": {
          "base_uri": "https://localhost:8080/",
          "height": 69
        },
        "id": "VKcrC_LFC1D8",
        "outputId": "b94bb9cd-870d-4dcc-a0dc-473b06ca2989"
      },
      "execution_count": 13,
      "outputs": [
        {
          "output_type": "execute_result",
          "data": {
            "text/plain": [
              "'\\nfrom flask import Flask, session, redirect, url_for, request\\n\\n\\napp = Flask(__name__)\\napp.secret_key = \\'your_secret_key\\' # Change this!\\n\\n\\n@app.route(\\'/login\\')\\ndef login():\\n   session[\\'username\\'] = \\'admin\\'\\n   return \\'User logged in\\'\\n\\n\\n@app.route(\\'/logout\\')\\ndef logout():\\n   session.pop(\\'username\\', None)\\n   return \\'User logged out\\'\\n\\n\\n@app.route(\\'/get_username\\')\\ndef get_username():\\n   return f\\'Current user: {session.get(\"username\", \"Not logged in\")}\\'\\n\\n\\n'"
            ],
            "application/vnd.google.colaboratory.intrinsic+json": {
              "type": "string"
            }
          },
          "metadata": {},
          "execution_count": 13
        }
      ]
    },
    {
      "cell_type": "markdown",
      "source": [
        "9. How do you redirect to a different route in Flask? Use the redirect function along with url_for.\n"
      ],
      "metadata": {
        "id": "MvEkjo-BDGid"
      }
    },
    {
      "cell_type": "code",
      "source": [
        "\"\"\"\n",
        "from flask import Flask, redirect, url_for\n",
        "\n",
        "\n",
        "app = Flask(__name__)\n",
        "\n",
        "\n",
        "@app.route('/')\n",
        "def index():\n",
        "   return 'This is the index page.'\n",
        "\n",
        "\n",
        "@app.route('/old_route')\n",
        "def old_route():\n",
        "   return redirect(url_for('index')) # Redirects to the index route\n",
        "\n",
        "\n",
        "\"\"\"\n"
      ],
      "metadata": {
        "colab": {
          "base_uri": "https://localhost:8080/",
          "height": 52
        },
        "id": "c7ToSTuSDKxo",
        "outputId": "cb1b7ccc-7fdd-4d49-c06d-457059b9d1f5"
      },
      "execution_count": 14,
      "outputs": [
        {
          "output_type": "execute_result",
          "data": {
            "text/plain": [
              "\"\\nfrom flask import Flask, redirect, url_for\\n\\n\\napp = Flask(__name__)\\n\\n\\n@app.route('/')\\ndef index():\\n   return 'This is the index page.'\\n\\n\\n@app.route('/old_route')\\ndef old_route():\\n   return redirect(url_for('index')) # Redirects to the index route\\n\\n\\n\""
            ],
            "application/vnd.google.colaboratory.intrinsic+json": {
              "type": "string"
            }
          },
          "metadata": {},
          "execution_count": 14
        }
      ]
    },
    {
      "cell_type": "markdown",
      "source": [
        "10. How do you handle errors in Flask?"
      ],
      "metadata": {
        "id": "U_FZDQmuDO62"
      }
    },
    {
      "cell_type": "code",
      "source": [
        "\"\"\"\n",
        "from flask import Flask, render_template\n",
        "\n",
        "\n",
        "app = Flask(__name__)\n",
        "\n",
        "\n",
        "@app.errorhandler(404)\n",
        "def page_not_found(error):\n",
        "   return render_template('404.html'), 404 # Assuming you have a 404.html template\n",
        "\n",
        "\n",
        "\"\"\"\n"
      ],
      "metadata": {
        "colab": {
          "base_uri": "https://localhost:8080/",
          "height": 35
        },
        "id": "WUEp6DSLDTEO",
        "outputId": "882e5d8c-67f2-46b5-aba9-27d6265547d3"
      },
      "execution_count": 15,
      "outputs": [
        {
          "output_type": "execute_result",
          "data": {
            "text/plain": [
              "\"\\nfrom flask import Flask, render_template\\n\\n\\napp = Flask(__name__)\\n\\n\\n@app.errorhandler(404)\\ndef page_not_found(error):\\n   return render_template('404.html'), 404 # Assuming you have a 404.html template\\n\\n\\n\""
            ],
            "application/vnd.google.colaboratory.intrinsic+json": {
              "type": "string"
            }
          },
          "metadata": {},
          "execution_count": 15
        }
      ]
    },
    {
      "cell_type": "markdown",
      "source": [
        "11. How do you structure a Flask app using blueprints?"
      ],
      "metadata": {
        "id": "-o_QMQNFDXaV"
      }
    },
    {
      "cell_type": "code",
      "source": [
        "\"\"\"\n",
        "# In a separate file (e.g., auth.py)\n",
        "from flask import Blueprint\n",
        "\n",
        "\n",
        "auth_bp = Blueprint('auth', __name__, url_prefix='/auth')\n",
        "\n",
        "\n",
        "# In your main app file\n",
        "from flask import Flask\n",
        "# from auth import auth_bp # Import the blueprint # Commented out as auth.py doesn't exist in this context\n",
        "\n",
        "\n",
        "app = Flask(__name__)\n",
        "# app.register_blueprint(auth_bp) # Commented out\n",
        "\n",
        "\n",
        "@app.route('/')\n",
        "def index():\n",
        "   return 'Main app'\n",
        "\n",
        "\n",
        "\"\"\"\n"
      ],
      "metadata": {
        "colab": {
          "base_uri": "https://localhost:8080/",
          "height": 52
        },
        "id": "h3EXkVcJDbNV",
        "outputId": "4df79935-f88d-4a93-965c-c213a219a14e"
      },
      "execution_count": 16,
      "outputs": [
        {
          "output_type": "execute_result",
          "data": {
            "text/plain": [
              "\"\\n# In a separate file (e.g., auth.py)\\nfrom flask import Blueprint\\n\\n\\nauth_bp = Blueprint('auth', __name__, url_prefix='/auth')\\n\\n\\n# In your main app file\\nfrom flask import Flask\\n# from auth import auth_bp # Import the blueprint # Commented out as auth.py doesn't exist in this context\\n\\n\\napp = Flask(__name__)\\n# app.register_blueprint(auth_bp) # Commented out\\n\\n\\n@app.route('/')\\ndef index():\\n   return 'Main app'\\n\\n\\n\""
            ],
            "application/vnd.google.colaboratory.intrinsic+json": {
              "type": "string"
            }
          },
          "metadata": {},
          "execution_count": 16
        }
      ]
    },
    {
      "cell_type": "markdown",
      "source": [
        "12. How do you define a custom Jinja filter in Flask?"
      ],
      "metadata": {
        "id": "eNTAuaP3DfBl"
      }
    },
    {
      "cell_type": "code",
      "source": [
        "\"\"\"\n",
        "from flask import Flask, render_template\n",
        "\n",
        "\n",
        "app = Flask(__name__)\n",
        "\n",
        "\n",
        "@app.template_filter('capitalize_words')\n",
        "def capitalize_words_filter(s):\n",
        "   return s.title()\n",
        "\n",
        "\n",
        "# In your template: {{ my_text | capitalize_words }}\n",
        "\n",
        "\n",
        "\"\"\"\n"
      ],
      "metadata": {
        "colab": {
          "base_uri": "https://localhost:8080/",
          "height": 35
        },
        "id": "cDF4YhVIDiho",
        "outputId": "ef7ea522-5e51-4eed-c13d-a453bf213121"
      },
      "execution_count": 17,
      "outputs": [
        {
          "output_type": "execute_result",
          "data": {
            "text/plain": [
              "\"\\nfrom flask import Flask, render_template\\n\\n\\napp = Flask(__name__)\\n\\n\\n@app.template_filter('capitalize_words')\\ndef capitalize_words_filter(s):\\n   return s.title()\\n\\n\\n# In your template: {{ my_text | capitalize_words }}\\n\\n\\n\""
            ],
            "application/vnd.google.colaboratory.intrinsic+json": {
              "type": "string"
            }
          },
          "metadata": {},
          "execution_count": 17
        }
      ]
    },
    {
      "cell_type": "markdown",
      "source": [
        "13. How can you redirect with query parameters in Flask?"
      ],
      "metadata": {
        "id": "vhr7rpixDmyq"
      }
    },
    {
      "cell_type": "code",
      "source": [
        "\"\"\"\n",
        "from flask import Flask, redirect, url_for\n",
        "\n",
        "\n",
        "app = Flask(__name__)\n",
        "\n",
        "\n",
        "@app.route('/search')\n",
        "def search():\n",
        "   return 'Search results'\n",
        "\n",
        "\n",
        "@app.route('/redirect_to_search')\n",
        "def redirect_to_search():\n",
        "   return redirect(url_for('search', q='flask', type='tutorial'))\n",
        "\n",
        "\n",
        "\"\"\"\n"
      ],
      "metadata": {
        "colab": {
          "base_uri": "https://localhost:8080/",
          "height": 52
        },
        "id": "Nc1VRYAxDqes",
        "outputId": "cdecba79-1363-4695-b0b1-35e3dbca0576"
      },
      "execution_count": 18,
      "outputs": [
        {
          "output_type": "execute_result",
          "data": {
            "text/plain": [
              "\"\\nfrom flask import Flask, redirect, url_for\\n\\n\\napp = Flask(__name__)\\n\\n\\n@app.route('/search')\\ndef search():\\n   return 'Search results'\\n\\n\\n@app.route('/redirect_to_search')\\ndef redirect_to_search():\\n   return redirect(url_for('search', q='flask', type='tutorial'))\\n\\n\\n\""
            ],
            "application/vnd.google.colaboratory.intrinsic+json": {
              "type": "string"
            }
          },
          "metadata": {},
          "execution_count": 18
        }
      ]
    },
    {
      "cell_type": "markdown",
      "source": [
        "14. How do you return JSON responses in Flask? Use the jsonify() function."
      ],
      "metadata": {
        "id": "Ifiz5pNCDubP"
      }
    },
    {
      "cell_type": "code",
      "source": [
        "\"\"\"\n",
        "from flask import Flask, jsonify\n",
        "\n",
        "\n",
        "app = Flask(__name__)\n",
        "\n",
        "\n",
        "@app.route('/api/data')\n",
        "def get_data():\n",
        "   data = {'name': 'Flask', 'version': '2.0'}\n",
        "   return jsonify(data)\n",
        "\n",
        "\n",
        "\"\"\"\n"
      ],
      "metadata": {
        "colab": {
          "base_uri": "https://localhost:8080/",
          "height": 35
        },
        "id": "4UJEYHCCDzBt",
        "outputId": "2810ff0e-ef84-4e2a-893a-2e29ef3dcbe7"
      },
      "execution_count": 19,
      "outputs": [
        {
          "output_type": "execute_result",
          "data": {
            "text/plain": [
              "\"\\nfrom flask import Flask, jsonify\\n\\n\\napp = Flask(__name__)\\n\\n\\n@app.route('/api/data')\\ndef get_data():\\n   data = {'name': 'Flask', 'version': '2.0'}\\n   return jsonify(data)\\n\\n\\n\""
            ],
            "application/vnd.google.colaboratory.intrinsic+json": {
              "type": "string"
            }
          },
          "metadata": {},
          "execution_count": 19
        }
      ]
    },
    {
      "cell_type": "markdown",
      "source": [
        "15. How do you capture URL parameters in Flask? Define variables in the route path using angle brackets (<>) and pass them as arguments to the route function."
      ],
      "metadata": {
        "id": "nN5UcJykD3ir"
      }
    },
    {
      "cell_type": "code",
      "source": [
        "\"\"\"\n",
        "from flask import Flask\n",
        "\n",
        "\n",
        "app = Flask(__name__)\n",
        "\n",
        "\n",
        "@app.route('/user/<username>')\n",
        "def show_user_profile(username):\n",
        "   return f'User: {username}'\n",
        "\n",
        "\n",
        "@app.route('/post/<int:post_id>')\n",
        "def show_post(post_id):\n",
        "   return f'Post ID: {post_id}'\n",
        "\n",
        "\"\"\""
      ],
      "metadata": {
        "colab": {
          "base_uri": "https://localhost:8080/",
          "height": 52
        },
        "id": "43AJ4q_eD9Su",
        "outputId": "504b54d8-54ec-46db-f8cb-05ca45a6aa07"
      },
      "execution_count": 20,
      "outputs": [
        {
          "output_type": "execute_result",
          "data": {
            "text/plain": [
              "\"\\nfrom flask import Flask\\n\\n\\napp = Flask(__name__)\\n\\n\\n@app.route('/user/<username>')\\ndef show_user_profile(username):\\n   return f'User: {username}'\\n\\n\\n@app.route('/post/<int:post_id>')\\ndef show_post(post_id):\\n   return f'Post ID: {post_id}'\\n\\n\""
            ],
            "application/vnd.google.colaboratory.intrinsic+json": {
              "type": "string"
            }
          },
          "metadata": {},
          "execution_count": 20
        }
      ]
    }
  ]
}